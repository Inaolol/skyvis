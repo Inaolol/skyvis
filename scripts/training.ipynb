{
 "cells": [
  {
   "cell_type": "code",
   "execution_count": 1,
   "metadata": {
    "execution": {
     "iopub.execute_input": "2024-10-30T14:20:11.596380Z",
     "iopub.status.busy": "2024-10-30T14:20:11.595236Z",
     "iopub.status.idle": "2024-10-30T14:20:12.712011Z",
     "shell.execute_reply": "2024-10-30T14:20:12.711018Z",
     "shell.execute_reply.started": "2024-10-30T14:20:11.596329Z"
    },
    "executionInfo": {
     "elapsed": 557,
     "status": "ok",
     "timestamp": 1718579682540,
     "user": {
      "displayName": "Abdirisaaq Moha",
      "userId": "17505322952128150722"
     },
     "user_tz": -180
    },
    "id": "XzubK0eTWNnN",
    "outputId": "7f68c19e-8488-40f8-b6f0-b9b979dd5eee",
    "trusted": true
   },
   "outputs": [
    {
     "name": "stdout",
     "output_type": "stream",
     "text": [
      "Wed Oct 30 14:20:12 2024       \n",
      "+-----------------------------------------------------------------------------------------+\n",
      "| NVIDIA-SMI 550.90.07              Driver Version: 550.90.07      CUDA Version: 12.4     |\n",
      "|-----------------------------------------+------------------------+----------------------+\n",
      "| GPU  Name                 Persistence-M | Bus-Id          Disp.A | Volatile Uncorr. ECC |\n",
      "| Fan  Temp   Perf          Pwr:Usage/Cap |           Memory-Usage | GPU-Util  Compute M. |\n",
      "|                                         |                        |               MIG M. |\n",
      "|=========================================+========================+======================|\n",
      "|   0  Tesla T4                       Off |   00000000:00:04.0 Off |                    0 |\n",
      "| N/A   43C    P8              9W /   70W |       1MiB /  15360MiB |      0%      Default |\n",
      "|                                         |                        |                  N/A |\n",
      "+-----------------------------------------+------------------------+----------------------+\n",
      "|   1  Tesla T4                       Off |   00000000:00:05.0 Off |                    0 |\n",
      "| N/A   42C    P8              9W /   70W |       1MiB /  15360MiB |      0%      Default |\n",
      "|                                         |                        |                  N/A |\n",
      "+-----------------------------------------+------------------------+----------------------+\n",
      "                                                                                         \n",
      "+-----------------------------------------------------------------------------------------+\n",
      "| Processes:                                                                              |\n",
      "|  GPU   GI   CI        PID   Type   Process name                              GPU Memory |\n",
      "|        ID   ID                                                               Usage      |\n",
      "|=========================================================================================|\n",
      "|  No running processes found                                                             |\n",
      "+-----------------------------------------------------------------------------------------+\n"
     ]
    }
   ],
   "source": [
    "!nvidia-smi"
   ]
  },
  {
   "cell_type": "code",
   "execution_count": null,
   "metadata": {
    "trusted": true
   },
   "outputs": [],
   "source": [
    "!cp -r /kaggle/input/previos-runs/run /kaggle/working/runs"
   ]
  },
  {
   "cell_type": "code",
   "execution_count": null,
   "metadata": {},
   "outputs": [],
   "source": [
    "import os\n",
    "import yaml\n",
    "import shutil\n",
    "\n",
    "# Define paths\n",
    "input_yaml_path = '/kaggle/input/training/data.yaml'\n",
    "output_yaml_path = '/kaggle/working/Dataset/data.yaml'\n",
    "\n",
    "# Check if the input YAML file exists\n",
    "if os.path.exists(input_yaml_path):\n",
    "    # Copy the YAML file from input directory to output directory\n",
    "    shutil.copyfile(input_yaml_path, output_yaml_path)\n",
    "    print(f\"Copied {input_yaml_path} to {output_yaml_path}\")"
   ]
  },
  {
   "cell_type": "code",
   "execution_count": null,
   "metadata": {
    "execution": {
     "iopub.execute_input": "2024-10-30T14:21:07.010474Z",
     "iopub.status.busy": "2024-10-30T14:21:07.009756Z",
     "iopub.status.idle": "2024-10-30T14:21:07.015492Z",
     "shell.execute_reply": "2024-10-30T14:21:07.014545Z",
     "shell.execute_reply.started": "2024-10-30T14:21:07.010439Z"
    },
    "executionInfo": {
     "elapsed": 1130,
     "status": "ok",
     "timestamp": 1718579693165,
     "user": {
      "displayName": "Abdirisaaq Moha",
      "userId": "17505322952128150722"
     },
     "user_tz": -180
    },
    "id": "2jbaDk9Bznpn",
    "outputId": "e6cf13c8-27af-4af3-94a9-ad59e5b04a16",
    "trusted": true
   },
   "outputs": [],
   "source": [
    "import os\n",
    "HOME = os.getcwd()\n",
    "print(HOME)"
   ]
  },
  {
   "cell_type": "code",
   "execution_count": 3,
   "metadata": {
    "execution": {
     "iopub.execute_input": "2024-07-10T22:48:41.413170Z",
     "iopub.status.busy": "2024-07-10T22:48:41.412773Z",
     "iopub.status.idle": "2024-07-10T22:48:56.695850Z",
     "shell.execute_reply": "2024-07-10T22:48:56.694739Z",
     "shell.execute_reply.started": "2024-07-10T22:48:41.413137Z"
    },
    "executionInfo": {
     "elapsed": 80704,
     "status": "ok",
     "timestamp": 1718579776089,
     "user": {
      "displayName": "Abdirisaaq Moha",
      "userId": "17505322952128150722"
     },
     "user_tz": -180
    },
    "id": "1AFdqGVxy_3p",
    "outputId": "ca426b7a-df69-475e-9f25-37d826247517",
    "trusted": true
   },
   "outputs": [
    {
     "name": "stdout",
     "output_type": "stream",
     "text": [
      "Ultralytics YOLOv8.2.52 🚀 Python-3.10.13 torch-2.1.2 CUDA:0 (Tesla T4, 15095MiB)\n",
      "Setup complete ✅ (4 CPUs, 31.4 GB RAM, 5689.5/8062.4 GB disk)\n"
     ]
    }
   ],
   "source": [
    "%pip install ultralytics\n",
    "\n",
    "\n",
    "from IPython import display\n",
    "display.clear_output()\n",
    "\n",
    "import ultralytics\n",
    "ultralytics.checks()"
   ]
  },
  {
   "cell_type": "code",
   "execution_count": 8,
   "metadata": {
    "execution": {
     "iopub.execute_input": "2024-10-30T14:24:03.504429Z",
     "iopub.status.busy": "2024-10-30T14:24:03.504075Z",
     "iopub.status.idle": "2024-10-30T14:24:03.508675Z",
     "shell.execute_reply": "2024-10-30T14:24:03.507717Z",
     "shell.execute_reply.started": "2024-10-30T14:24:03.504399Z"
    },
    "executionInfo": {
     "elapsed": 670,
     "status": "ok",
     "timestamp": 1718579785591,
     "user": {
      "displayName": "Abdirisaaq Moha",
      "userId": "17505322952128150722"
     },
     "user_tz": -180
    },
    "id": "fYes601--dcE",
    "trusted": true
   },
   "outputs": [],
   "source": [
    "from ultralytics import YOLO\n",
    "\n",
    "from IPython.display import display, Image"
   ]
  },
  {
   "cell_type": "markdown",
   "metadata": {},
   "source": [
    "# Clear output folder\n"
   ]
  },
  {
   "cell_type": "code",
   "execution_count": null,
   "metadata": {
    "trusted": true
   },
   "outputs": [],
   "source": [
    "import os\n",
    "\n",
    "def remove_folder_contents(folder):\n",
    "    for the_file in os.listdir(folder):\n",
    "        file_path = os.path.join(folder, the_file)\n",
    "        try:\n",
    "            if os.path.isfile(file_path):\n",
    "                os.unlink(file_path)\n",
    "            elif os.path.isdir(file_path):\n",
    "                remove_folder_contents(file_path)\n",
    "                os.rmdir(file_path)\n",
    "        except Exception as e:\n",
    "            print(e)\n",
    "\n",
    "folder_path = '/kaggle/working/'\n",
    "remove_folder_contents(folder_path)\n",
    "#os.rmdir(folder_path)"
   ]
  },
  {
   "cell_type": "markdown",
   "metadata": {},
   "source": [
    "# Train the model"
   ]
  },
  {
   "cell_type": "code",
   "execution_count": 6,
   "metadata": {
    "execution": {
     "iopub.execute_input": "2024-07-10T22:49:27.180149Z",
     "iopub.status.busy": "2024-07-10T22:49:27.179753Z",
     "iopub.status.idle": "2024-07-10T22:49:40.044856Z",
     "shell.execute_reply": "2024-07-10T22:49:40.043742Z",
     "shell.execute_reply.started": "2024-07-10T22:49:27.180115Z"
    },
    "executionInfo": {
     "elapsed": 6170,
     "status": "ok",
     "timestamp": 1718581623051,
     "user": {
      "displayName": "Abdirisaaq Moha",
      "userId": "17505322952128150722"
     },
     "user_tz": -180
    },
    "id": "4DHirNwEg-vx",
    "trusted": true
   },
   "outputs": [
    {
     "name": "stderr",
     "output_type": "stream",
     "text": [
      "\u001b[1;38;5;214mCOMET WARNING:\u001b[0m comet_ml.init() is deprecated and will be removed soon. Please use comet_ml.login()\n"
     ]
    },
    {
     "name": "stdout",
     "output_type": "stream",
     "text": [
      "Note: you may need to restart the kernel to use updated packages.\n"
     ]
    }
   ],
   "source": [
    "#@title Select YOLOv8 🚀 logger {run: 'auto'}\n",
    "logger = 'Comet' #@param ['Comet', 'TensorBoard']\n",
    "\n",
    "if logger == 'Comet':\n",
    "  %pip install -q comet_ml\n",
    "  import comet_ml; comet_ml.init()\n",
    "elif logger == 'TensorBoard':\n",
    "  %load_ext tensorboard\n",
    "  %tensorboard --logdir ."
   ]
  },
  {
   "cell_type": "code",
   "execution_count": null,
   "metadata": {
    "collapsed": true,
    "execution": {
     "iopub.execute_input": "2024-07-10T22:49:47.774455Z",
     "iopub.status.busy": "2024-07-10T22:49:47.773607Z"
    },
    "executionInfo": {
     "elapsed": 2239655,
     "status": "ok",
     "timestamp": 1718583893883,
     "user": {
      "displayName": "Abdirisaaq Moha",
      "userId": "17505322952128150722"
     },
     "user_tz": -180
    },
    "id": "vPrrki785Cmt",
    "jupyter": {
     "outputs_hidden": true
    },
    "outputId": "87f13c11-b531-45de-cd31-814b3789f185",
    "trusted": true
   },
   "outputs": [],
   "source": [
    "%cd {HOME}\n",
    "\n",
    "!yolo train resume model=/kaggle/working/runs/detect/train/weights/last.pt data=/kaggle/working/Dataset/data.yaml epochs=300 imgsz=800 device=0,1"
   ]
  },
  {
   "cell_type": "code",
   "execution_count": 5,
   "metadata": {
    "execution": {
     "iopub.execute_input": "2024-10-30T14:23:13.735398Z",
     "iopub.status.busy": "2024-10-30T14:23:13.734659Z",
     "iopub.status.idle": "2024-10-30T14:23:14.723558Z",
     "shell.execute_reply": "2024-10-30T14:23:14.722614Z",
     "shell.execute_reply.started": "2024-10-30T14:23:13.735364Z"
    },
    "id": "48Ho-rrJ9zuq",
    "trusted": true
   },
   "outputs": [
    {
     "name": "stdout",
     "output_type": "stream",
     "text": [
      "args.yaml\n",
      "events.out.tfevents.1720515172.06ab4620e2ac.145.0\n",
      "events.out.tfevents.1720533673.a1bb8ff362db.116.0\n",
      "events.out.tfevents.1720579060.645d17b7be19.113.0\n",
      "events.out.tfevents.1720623662.066505c5ee76.240.0\n",
      "events.out.tfevents.1720628523.1c811f2704f0.113.0\n",
      "events.out.tfevents.1720651818.1c811f2704f0.462.0\n",
      "labels.jpg\n",
      "labels_correlogram.jpg\n",
      "results.csv\n",
      "\u001b[0m\u001b[01;34mweights\u001b[0m/\n"
     ]
    }
   ],
   "source": [
    "ls {HOME}/runs/detect/train/"
   ]
  },
  {
   "cell_type": "code",
   "execution_count": null,
   "metadata": {
    "execution": {
     "iopub.execute_input": "2024-10-30T14:28:11.556203Z",
     "iopub.status.busy": "2024-10-30T14:28:11.555350Z",
     "iopub.status.idle": "2024-10-30T14:28:11.567500Z",
     "shell.execute_reply": "2024-10-30T14:28:11.566521Z",
     "shell.execute_reply.started": "2024-10-30T14:28:11.556168Z"
    },
    "id": "vimWbT9u94a0",
    "trusted": true
   },
   "outputs": [],
   "source": [
    "%cd {HOME}\n",
    "Image(filename=f'{HOME}/runs/detect/val/confusion_matrix.png', width=800) "
   ]
  },
  {
   "cell_type": "code",
   "execution_count": null,
   "metadata": {
    "execution": {
     "iopub.execute_input": "2024-10-30T14:31:17.347346Z",
     "iopub.status.busy": "2024-10-30T14:31:17.346494Z",
     "iopub.status.idle": "2024-10-30T14:31:17.360681Z",
     "shell.execute_reply": "2024-10-30T14:31:17.359791Z",
     "shell.execute_reply.started": "2024-10-30T14:31:17.347311Z"
    },
    "id": "xTnXpvPq97BR",
    "trusted": true
   },
   "outputs": [],
   "source": [
    "%cd {HOME}\n",
    "Image(filename=f'{HOME}/runs/detect/train/labels_correlogram.jpg', width=600)"
   ]
  },
  {
   "cell_type": "code",
   "execution_count": null,
   "metadata": {
    "execution": {
     "iopub.execute_input": "2024-10-30T14:31:38.314972Z",
     "iopub.status.busy": "2024-10-30T14:31:38.314610Z",
     "iopub.status.idle": "2024-10-30T14:31:38.344340Z",
     "shell.execute_reply": "2024-10-30T14:31:38.343280Z",
     "shell.execute_reply.started": "2024-10-30T14:31:38.314945Z"
    },
    "id": "gRKvrfDd9-z7",
    "trusted": true
   },
   "outputs": [],
   "source": [
    "%cd {HOME}\n",
    "Image(filename=f'{HOME}/runs/detect/val/val_batch0_pred.jpg', width=600)"
   ]
  },
  {
   "cell_type": "code",
   "execution_count": null,
   "metadata": {
    "execution": {
     "iopub.execute_input": "2024-10-30T14:32:27.609387Z",
     "iopub.status.busy": "2024-10-30T14:32:27.609072Z",
     "iopub.status.idle": "2024-10-30T14:32:27.727046Z",
     "shell.execute_reply": "2024-10-30T14:32:27.726157Z",
     "shell.execute_reply.started": "2024-10-30T14:32:27.609361Z"
    },
    "trusted": true
   },
   "outputs": [],
   "source": [
    "import glob\n",
    "from IPython.display import Image, display\n",
    "\n",
    "for image_path in glob.glob(f'{HOME}/runs/detect/predict2/*.jpg')[:10]:\n",
    "      display(Image(filename=image_path, width=600))\n",
    "      print(\"\\n\")"
   ]
  }
 ],
 "metadata": {
  "accelerator": "GPU",
  "colab": {
   "gpuType": "T4",
   "provenance": []
  },
  "kaggle": {
   "accelerator": "nvidiaTeslaT4",
   "dataSources": [
    {
     "datasetId": 5352343,
     "sourceId": 8902956,
     "sourceType": "datasetVersion"
    },
    {
     "datasetId": 5359168,
     "sourceId": 8912435,
     "sourceType": "datasetVersion"
    }
   ],
   "dockerImageVersionId": 30733,
   "isGpuEnabled": true,
   "isInternetEnabled": true,
   "language": "python",
   "sourceType": "notebook"
  },
  "kernelspec": {
   "display_name": "yarisma",
   "language": "python",
   "name": "python3"
  },
  "language_info": {
   "codemirror_mode": {
    "name": "ipython",
    "version": 3
   },
   "file_extension": ".py",
   "mimetype": "text/x-python",
   "name": "python",
   "nbconvert_exporter": "python",
   "pygments_lexer": "ipython3",
   "version": "3.8.19"
  }
 },
 "nbformat": 4,
 "nbformat_minor": 4
}
